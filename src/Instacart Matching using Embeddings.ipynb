{
 "cells": [
  {
   "cell_type": "markdown",
   "id": "0819be01",
   "metadata": {},
   "source": [
    "# Instacart Matching\n",
    "\n",
    "For this use case we are looking to take a list of ingredients provided by a customer and search for the best matches from the Instacart catalogue\n",
    "\n",
    "To accomplish this we will:\n",
    "- Load a sample list of Instacart products\n",
    "- Create embeddings based on these\n",
    "- Generate lists of ingredients and compare them with the embeddings to find the most similar items to present"
   ]
  },
  {
   "cell_type": "markdown",
   "id": "9029e905",
   "metadata": {},
   "source": [
    "## Setup\n",
    "\n",
    "First we will import all the packages we'll need"
   ]
  },
  {
   "cell_type": "code",
   "execution_count": 4,
   "id": "ef598a67",
   "metadata": {},
   "outputs": [],
   "source": [
    "# imports\n",
    "import openai  # OpenAI Python library to make API calls\n",
    "import pandas as pd \n",
    "import os\n",
    "from openai.embeddings_utils import cosine_similarity\n",
    "\n",
    "# set API key\n",
    "openai.api_key = os.environ.get(\"OPENAI_API_KEY\")\n",
    "\n",
    "# set data directory\n",
    "data_dir = os.path.join(os.pardir,'data')\n",
    "\n",
    "# I've set this to our new embeddings model, this can be changed to the embedding model of your choice\n",
    "EMBEDDING_MODEL = \"text-embedding-ada-002\""
   ]
  },
  {
   "cell_type": "markdown",
   "id": "fc14288d",
   "metadata": {},
   "source": [
    "## Load Data\n",
    "\n",
    "Next we'll load in our list of Instacart products"
   ]
  },
  {
   "cell_type": "code",
   "execution_count": 5,
   "id": "1ff7106f",
   "metadata": {},
   "outputs": [],
   "source": [
    "# Simple function to take in a list of text objects and return them as a list of embeddings\n",
    "def get_embedding(text,engine):\n",
    "    response = openai.Embedding.create(\n",
    "        input=text,\n",
    "        model=engine,\n",
    "    )\n",
    "    #print(response)\n",
    "    return response['data'][0][\"embedding\"]"
   ]
  },
  {
   "cell_type": "code",
   "execution_count": 6,
   "id": "e1ab12f1",
   "metadata": {},
   "outputs": [
    {
     "data": {
      "text/html": [
       "<div>\n",
       "<style scoped>\n",
       "    .dataframe tbody tr th:only-of-type {\n",
       "        vertical-align: middle;\n",
       "    }\n",
       "\n",
       "    .dataframe tbody tr th {\n",
       "        vertical-align: top;\n",
       "    }\n",
       "\n",
       "    .dataframe thead th {\n",
       "        text-align: right;\n",
       "    }\n",
       "</style>\n",
       "<table border=\"1\" class=\"dataframe\">\n",
       "  <thead>\n",
       "    <tr style=\"text-align: right;\">\n",
       "      <th></th>\n",
       "      <th>product_id</th>\n",
       "      <th>product_name</th>\n",
       "      <th>aisle_id</th>\n",
       "      <th>department_id</th>\n",
       "    </tr>\n",
       "  </thead>\n",
       "  <tbody>\n",
       "    <tr>\n",
       "      <th>0</th>\n",
       "      <td>1</td>\n",
       "      <td>Chocolate Sandwich Cookies</td>\n",
       "      <td>61</td>\n",
       "      <td>19</td>\n",
       "    </tr>\n",
       "    <tr>\n",
       "      <th>1</th>\n",
       "      <td>2</td>\n",
       "      <td>All-Seasons Salt</td>\n",
       "      <td>104</td>\n",
       "      <td>13</td>\n",
       "    </tr>\n",
       "    <tr>\n",
       "      <th>2</th>\n",
       "      <td>3</td>\n",
       "      <td>Robust Golden Unsweetened Oolong Tea</td>\n",
       "      <td>94</td>\n",
       "      <td>7</td>\n",
       "    </tr>\n",
       "    <tr>\n",
       "      <th>3</th>\n",
       "      <td>4</td>\n",
       "      <td>Smart Ones Classic Favorites Mini Rigatoni Wit...</td>\n",
       "      <td>38</td>\n",
       "      <td>1</td>\n",
       "    </tr>\n",
       "    <tr>\n",
       "      <th>4</th>\n",
       "      <td>5</td>\n",
       "      <td>Green Chile Anytime Sauce</td>\n",
       "      <td>5</td>\n",
       "      <td>13</td>\n",
       "    </tr>\n",
       "  </tbody>\n",
       "</table>\n",
       "</div>"
      ],
      "text/plain": [
       "   product_id                                       product_name  aisle_id  \\\n",
       "0           1                         Chocolate Sandwich Cookies        61   \n",
       "1           2                                   All-Seasons Salt       104   \n",
       "2           3               Robust Golden Unsweetened Oolong Tea        94   \n",
       "3           4  Smart Ones Classic Favorites Mini Rigatoni Wit...        38   \n",
       "4           5                          Green Chile Anytime Sauce         5   \n",
       "\n",
       "   department_id  \n",
       "0             19  \n",
       "1             13  \n",
       "2              7  \n",
       "3              1  \n",
       "4             13  "
      ]
     },
     "execution_count": 6,
     "metadata": {},
     "output_type": "execute_result"
    }
   ],
   "source": [
    "# 49,688 Instacart products\n",
    "products = pd.read_csv(os.path.join(data_dir,os.listdir(data_dir)[0]))\n",
    "products.head()"
   ]
  },
  {
   "cell_type": "markdown",
   "id": "aa7cf67d",
   "metadata": {},
   "source": [
    "## Create Embeddings\n",
    "\n"
   ]
  },
  {
   "cell_type": "code",
   "execution_count": 7,
   "id": "1a87aa78",
   "metadata": {},
   "outputs": [
    {
     "data": {
      "text/html": [
       "<div>\n",
       "<style scoped>\n",
       "    .dataframe tbody tr th:only-of-type {\n",
       "        vertical-align: middle;\n",
       "    }\n",
       "\n",
       "    .dataframe tbody tr th {\n",
       "        vertical-align: top;\n",
       "    }\n",
       "\n",
       "    .dataframe thead th {\n",
       "        text-align: right;\n",
       "    }\n",
       "</style>\n",
       "<table border=\"1\" class=\"dataframe\">\n",
       "  <thead>\n",
       "    <tr style=\"text-align: right;\">\n",
       "      <th></th>\n",
       "      <th>product_id</th>\n",
       "      <th>product_name</th>\n",
       "      <th>aisle_id</th>\n",
       "      <th>department_id</th>\n",
       "    </tr>\n",
       "  </thead>\n",
       "  <tbody>\n",
       "    <tr>\n",
       "      <th>0</th>\n",
       "      <td>1</td>\n",
       "      <td>Chocolate Sandwich Cookies</td>\n",
       "      <td>61</td>\n",
       "      <td>19</td>\n",
       "    </tr>\n",
       "    <tr>\n",
       "      <th>1</th>\n",
       "      <td>2</td>\n",
       "      <td>All-Seasons Salt</td>\n",
       "      <td>104</td>\n",
       "      <td>13</td>\n",
       "    </tr>\n",
       "    <tr>\n",
       "      <th>2</th>\n",
       "      <td>3</td>\n",
       "      <td>Robust Golden Unsweetened Oolong Tea</td>\n",
       "      <td>94</td>\n",
       "      <td>7</td>\n",
       "    </tr>\n",
       "    <tr>\n",
       "      <th>3</th>\n",
       "      <td>4</td>\n",
       "      <td>Smart Ones Classic Favorites Mini Rigatoni Wit...</td>\n",
       "      <td>38</td>\n",
       "      <td>1</td>\n",
       "    </tr>\n",
       "    <tr>\n",
       "      <th>4</th>\n",
       "      <td>5</td>\n",
       "      <td>Green Chile Anytime Sauce</td>\n",
       "      <td>5</td>\n",
       "      <td>13</td>\n",
       "    </tr>\n",
       "  </tbody>\n",
       "</table>\n",
       "</div>"
      ],
      "text/plain": [
       "   product_id                                       product_name  aisle_id  \\\n",
       "0           1                         Chocolate Sandwich Cookies        61   \n",
       "1           2                                   All-Seasons Salt       104   \n",
       "2           3               Robust Golden Unsweetened Oolong Tea        94   \n",
       "3           4  Smart Ones Classic Favorites Mini Rigatoni Wit...        38   \n",
       "4           5                          Green Chile Anytime Sauce         5   \n",
       "\n",
       "   department_id  \n",
       "0             19  \n",
       "1             13  \n",
       "2              7  \n",
       "3              1  \n",
       "4             13  "
      ]
     },
     "execution_count": 7,
     "metadata": {},
     "output_type": "execute_result"
    }
   ],
   "source": [
    "# Trimmed to top 1000 products\n",
    "# This takes a while with the whole dataset, so manage your expectations accordingly\n",
    "products_trimmed = products[:1000]\n",
    "products_trimmed.head()"
   ]
  },
  {
   "cell_type": "code",
   "execution_count": 8,
   "id": "695b8611",
   "metadata": {
    "scrolled": true
   },
   "outputs": [
    {
     "name": "stderr",
     "output_type": "stream",
     "text": [
      "/var/folders/bs/rjtxlzk512103d0h0b1t18b40000gp/T/ipykernel_21350/3841990394.py:2: SettingWithCopyWarning: \n",
      "A value is trying to be set on a copy of a slice from a DataFrame.\n",
      "Try using .loc[row_indexer,col_indexer] = value instead\n",
      "\n",
      "See the caveats in the documentation: https://pandas.pydata.org/pandas-docs/stable/user_guide/indexing.html#returning-a-view-versus-a-copy\n",
      "  products_trimmed['product_embedding'] = products_trimmed.product_name.apply(lambda x: get_embedding(x, engine=EMBEDDING_MODEL))\n"
     ]
    }
   ],
   "source": [
    "# This will take just under 10 minutes\n",
    "products_trimmed['product_embedding'] = products_trimmed.product_name.apply(lambda x: get_embedding(x, engine=EMBEDDING_MODEL))"
   ]
  },
  {
   "cell_type": "code",
   "execution_count": 9,
   "id": "4310f4c2",
   "metadata": {},
   "outputs": [],
   "source": [
    "products_trimmed.to_csv(os.path.join(data_dir,'products_with_embeddings.csv'))"
   ]
  },
  {
   "cell_type": "markdown",
   "id": "d709c842",
   "metadata": {},
   "source": [
    "## Create recommender based on similarity\n",
    "\n",
    "We'll create a function which finds top results based on cosine similarity when providing an ingredient"
   ]
  },
  {
   "cell_type": "code",
   "execution_count": 10,
   "id": "a6152533",
   "metadata": {},
   "outputs": [],
   "source": [
    "# search through the reviews for a specific product\n",
    "def search_reviews(df, product_name, n=3, pprint=True):\n",
    "    embedding = get_embedding(\n",
    "        product_name,\n",
    "        engine=EMBEDDING_MODEL\n",
    "    )\n",
    "    df[\"similarities\"] = df.product_embedding.apply(lambda x: cosine_similarity(x, embedding))\n",
    "    \n",
    "    # Here we choose to sort by similarity and take the top \"n\" results i.e. the top X with the best match\n",
    "    res = (\n",
    "        df.sort_values(\"similarities\", ascending=False)\n",
    "        .head(n)\n",
    "    )\n",
    "    '''if pprint:\n",
    "        for r in res:\n",
    "            print(r[:200])\n",
    "            print()'''\n",
    "    return res"
   ]
  },
  {
   "cell_type": "code",
   "execution_count": 11,
   "id": "b538b244",
   "metadata": {},
   "outputs": [
    {
     "name": "stdout",
     "output_type": "stream",
     "text": [
      "Garbanzo Beans\n",
      "Petite Green Peas\n",
      "Petite Brussels Sprouts\n"
     ]
    },
    {
     "name": "stderr",
     "output_type": "stream",
     "text": [
      "/var/folders/bs/rjtxlzk512103d0h0b1t18b40000gp/T/ipykernel_21350/40883196.py:7: SettingWithCopyWarning: \n",
      "A value is trying to be set on a copy of a slice from a DataFrame.\n",
      "Try using .loc[row_indexer,col_indexer] = value instead\n",
      "\n",
      "See the caveats in the documentation: https://pandas.pydata.org/pandas-docs/stable/user_guide/indexing.html#returning-a-view-versus-a-copy\n",
      "  df[\"similarities\"] = df.product_embedding.apply(lambda x: cosine_similarity(x, embedding))\n"
     ]
    }
   ],
   "source": [
    "# Green beans seems to work ok\n",
    "res = search_reviews(products_trimmed, \"green beans\", n=3)\n",
    "for idx,row in res.iterrows():\n",
    "    print(row['product_name'])"
   ]
  },
  {
   "cell_type": "code",
   "execution_count": 14,
   "id": "22072f22",
   "metadata": {},
   "outputs": [
    {
     "name": "stdout",
     "output_type": "stream",
     "text": [
      "Cookie Chips Crunchy Dark Chocolate Chocolate Chip Cookies\n",
      "Chocolate Sandwich Cookies\n",
      "Gluten Free All Natural Chocolate Chip Cookies\n"
     ]
    },
    {
     "name": "stderr",
     "output_type": "stream",
     "text": [
      "/var/folders/bs/rjtxlzk512103d0h0b1t18b40000gp/T/ipykernel_21350/40883196.py:7: SettingWithCopyWarning: \n",
      "A value is trying to be set on a copy of a slice from a DataFrame.\n",
      "Try using .loc[row_indexer,col_indexer] = value instead\n",
      "\n",
      "See the caveats in the documentation: https://pandas.pydata.org/pandas-docs/stable/user_guide/indexing.html#returning-a-view-versus-a-copy\n",
      "  df[\"similarities\"] = df.product_embedding.apply(lambda x: cosine_similarity(x, embedding))\n"
     ]
    }
   ],
   "source": [
    "# Green beans seems to work ok\n",
    "res = search_reviews(products_trimmed, \"chocolate chip cookies\", n=3)\n",
    "for idx,row in res.iterrows():\n",
    "    print(row['product_name'])"
   ]
  }
 ],
 "metadata": {
  "kernelspec": {
   "display_name": "Python 3 (ipykernel)",
   "language": "python",
   "name": "python3"
  },
  "language_info": {
   "codemirror_mode": {
    "name": "ipython",
    "version": 3
   },
   "file_extension": ".py",
   "mimetype": "text/x-python",
   "name": "python",
   "nbconvert_exporter": "python",
   "pygments_lexer": "ipython3",
   "version": "3.10.9"
  }
 },
 "nbformat": 4,
 "nbformat_minor": 5
}
